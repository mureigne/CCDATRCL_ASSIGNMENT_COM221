{
  "cells": [
    {
      "cell_type": "markdown",
      "metadata": {
        "id": "fCO3VeNzvGDc"
      },
      "source": [
        "# Exercise 4"
      ]
    },
    {
      "cell_type": "markdown",
      "metadata": {
        "id": "UCFGr2qPKONg"
      },
      "source": [
        "#### Pre-defined sorting algorithms"
      ]
    },
    {
      "cell_type": "code",
      "execution_count": 10,
      "metadata": {
        "id": "dXWXOLWtKONg"
      },
      "outputs": [],
      "source": [
        "def mergeSort(array):\n",
        "    if len(array) > 1:\n",
        "\n",
        "        #  r is the point where the array is divided into two subarrays\n",
        "        r = len(array)//2\n",
        "        L = array[:r]\n",
        "        M = array[r:]\n",
        "\n",
        "        # Sort the two halves\n",
        "        mergeSort(L)\n",
        "        mergeSort(M)\n",
        "\n",
        "        i = j = k = 0\n",
        "\n",
        "        # Until we reach either end of either L or M, pick larger among\n",
        "        # elements L and M and place them in the correct position at A[p..r]\n",
        "        while i < len(L) and j < len(M):\n",
        "            if L[i] < M[j]:\n",
        "                array[k] = L[i]\n",
        "                i += 1\n",
        "            else:\n",
        "                array[k] = M[j]\n",
        "                j += 1\n",
        "            k += 1\n",
        "\n",
        "        # When we run out of elements in either L or M,\n",
        "        # pick up the remaining elements and put in A[p..r]\n",
        "        while i < len(L):\n",
        "            array[k] = L[i]\n",
        "            i += 1\n",
        "            k += 1\n",
        "\n",
        "        while j < len(M):\n",
        "            array[k] = M[j]\n",
        "            j += 1\n",
        "            k += 1\n",
        "\n",
        "# Print the array\n",
        "def printList(array):\n",
        "    for i in range(len(array)):\n",
        "        print(array[i], end=\" \")\n",
        "    print()"
      ]
    },
    {
      "cell_type": "code",
      "execution_count": 11,
      "metadata": {
        "id": "OB-JMVxvKONi"
      },
      "outputs": [],
      "source": [
        "def countingSort(array):\n",
        "    size = len(array)\n",
        "    output = [0] * size\n",
        "\n",
        "    # Initialize count array\n",
        "    count = [0] * 10\n",
        "\n",
        "    # Store the count of each elements in count array\n",
        "    for i in range(0, size):\n",
        "        count[array[i]] += 1\n",
        "\n",
        "    # Store the cummulative count\n",
        "    for i in range(1, 10):\n",
        "        count[i] += count[i - 1]\n",
        "\n",
        "    # Find the index of each element of the original array in count array\n",
        "    # place the elements in output array\n",
        "    i = size - 1\n",
        "    while i >= 0:\n",
        "        output[count[array[i]] - 1] = array[i]\n",
        "        count[array[i]] -= 1\n",
        "        i -= 1\n",
        "\n",
        "    # Copy the sorted elements into original array\n",
        "    for i in range(0, size):\n",
        "        array[i] = output[i]"
      ]
    },
    {
      "cell_type": "code",
      "execution_count": 12,
      "metadata": {
        "id": "VXaukk4_KONj"
      },
      "outputs": [],
      "source": [
        "def insertionSort(array):\n",
        "\n",
        "    for step in range(1, len(array)):\n",
        "        key = array[step]\n",
        "        j = step - 1\n",
        "\n",
        "        # Compare key with each element on the left of it until an element smaller than it is found\n",
        "        # For descending order, change key<array[j] to key>array[j].\n",
        "        while j >= 0 and key < array[j]:\n",
        "            array[j + 1] = array[j]\n",
        "            j = j - 1\n",
        "\n",
        "        # Place key at after the element just smaller than it.\n",
        "        array[j + 1] = key"
      ]
    },
    {
      "cell_type": "code",
      "execution_count": 13,
      "metadata": {
        "id": "b4yWHH1nKONj"
      },
      "outputs": [],
      "source": [
        "# Bubble sort in Python\n",
        "def bubbleSort(array):\n",
        "\n",
        "  # loop to access each array element\n",
        "  for i in range(len(array)):\n",
        "\n",
        "    # loop to compare array elements\n",
        "    for j in range(0, len(array) - i - 1):\n",
        "\n",
        "      # compare two adjacent elements\n",
        "      # change > to < to sort in descending order\n",
        "      if array[j] > array[j + 1]:\n",
        "\n",
        "        # swapping elements if elements\n",
        "        # are not in the intended order\n",
        "        temp = array[j]\n",
        "        array[j] = array[j+1]\n",
        "        array[j+1] = temp"
      ]
    },
    {
      "cell_type": "markdown",
      "metadata": {
        "id": "6j9PZVsyvGDe"
      },
      "source": [
        "#### 1. Sort your **student number** in **ascending order**\n",
        "\n",
        "Example:\n",
        "\n",
        "**Input: 2022123456**\n",
        "\n",
        "**Output: 0122223456**"
      ]
    },
    {
      "cell_type": "code",
      "execution_count": 14,
      "metadata": {
        "id": "UuNMRCm3vGDe",
        "outputId": "4339adb0-79de-40e6-be58-fcc94f9862d4",
        "colab": {
          "base_uri": "https://localhost:8080/"
        }
      },
      "outputs": [
        {
          "output_type": "stream",
          "name": "stdout",
          "text": [
            "Sorted student numbers in ascending order: [0, 0, 0, 1, 2, 2, 2, 4, 4, 5]\n"
          ]
        }
      ],
      "source": [
        "# put your answer here\n",
        "def bubble_sort(student_num):\n",
        "    n = len(student_num)\n",
        "\n",
        "    for i in range(n):\n",
        "        swapped = False\n",
        "\n",
        "        for j in range(0, n - i - 1):\n",
        "            if student_num[j] > student_num[j + 1]:\n",
        "\n",
        "                student_num[j], student_num[j + 1] = student_num[j + 1], student_num[j]\n",
        "                swapped = True\n",
        "\n",
        "\n",
        "        if not swapped:\n",
        "            break\n",
        "\n",
        "\n",
        "student_num = [2, 0, 2, 2, 1, 0, 4, 0, 4, 5]\n",
        "\n",
        "\n",
        "bubble_sort(student_num)\n",
        "print(\"Sorted student numbers in ascending order:\", student_num)"
      ]
    },
    {
      "cell_type": "markdown",
      "metadata": {
        "id": "felukBjnvGDf"
      },
      "source": [
        "#### 2. Sort the **dates** in **ascending order**.\n",
        "\n",
        "dates = [\"12-25-2023\", birthday, \"01-01-2023\"]\n",
        "\n",
        "Enter your birthday in the birthday variable."
      ]
    },
    {
      "cell_type": "code",
      "execution_count": 15,
      "metadata": {
        "id": "f8xQ3N0jvGDg",
        "outputId": "ef281151-4895-4f6f-ceb9-c4f176badf4a",
        "colab": {
          "base_uri": "https://localhost:8080/"
        }
      },
      "outputs": [
        {
          "output_type": "stream",
          "name": "stdout",
          "text": [
            "Sorted dates in ascending order: ['09-25-2004', '01-01-2023', '12-25-2023']\n"
          ]
        }
      ],
      "source": [
        "# put your answer here\n",
        "\n",
        "# Your birthday should be in mm-dd-yyyy\n",
        "birthday = \"09-25-2004\"\n",
        "\n",
        "dates = [\"12-25-2023\", birthday, \"01-01-2023\"]\n",
        "\n",
        "def date_to_numeric(date):\n",
        "\n",
        "    parts = date.split(\"-\")\n",
        "    return int(parts[2]) * 10000 + int(parts[0]) * 100 + int(parts[1])\n",
        "\n",
        "def selection_sort(dates):\n",
        "    n = len(dates)\n",
        "\n",
        "    for i in range(n):\n",
        "        min_index = i\n",
        "\n",
        "        for j in range(i + 1, n):\n",
        "            if date_to_numeric(dates[j]) < date_to_numeric(dates[min_index]):\n",
        "                min_index = j\n",
        "\n",
        "        dates[i], dates[min_index] = dates[min_index], dates[i]\n",
        "\n",
        "selection_sort(dates)\n",
        "\n",
        "\n",
        "print(\"Sorted dates in ascending order:\", dates)"
      ]
    },
    {
      "cell_type": "markdown",
      "metadata": {
        "id": "IFDPeGZxvGDg"
      },
      "source": [
        "#### 3. Count the **total number of swaps** to sort the list below using **Bubble Sort**\n",
        "\n",
        "|3|2|5|1|4|\n",
        "|---|----|---|---|---|"
      ]
    },
    {
      "cell_type": "code",
      "execution_count": 16,
      "metadata": {
        "id": "b1ppwLcevGDg",
        "outputId": "03de9307-a7b9-4a6f-943a-830b238149a8",
        "colab": {
          "base_uri": "https://localhost:8080/"
        }
      },
      "outputs": [
        {
          "output_type": "stream",
          "name": "stdout",
          "text": [
            "Sorted list: [1, 2, 3, 4, 5]\n",
            "Total number of swaps: 5\n"
          ]
        }
      ],
      "source": [
        "# put your answer here\n",
        "def bubble_sort(arr):\n",
        "    n = len(arr)\n",
        "    swaps = 0\n",
        "\n",
        "    for i in range(n):\n",
        "        swapped = False\n",
        "\n",
        "        for j in range(0, n - i - 1):\n",
        "            if arr[j] > arr[j + 1]:\n",
        "                arr[j], arr[j + 1] = arr[j + 1], arr[j]\n",
        "                swapped = True\n",
        "                swaps += 1\n",
        "\n",
        "        if not swapped:\n",
        "            break\n",
        "\n",
        "    return swaps\n",
        "\n",
        "arr = [3, 2, 5, 1, 4]\n",
        "\n",
        "totalswaps = bubble_sort(arr)\n",
        "\n",
        "print(\"Sorted list:\", arr)\n",
        "print(\"Total number of swaps:\", totalswaps)"
      ]
    },
    {
      "cell_type": "markdown",
      "metadata": {
        "id": "iO2UusQWvGDi"
      },
      "source": [
        "#### 4. Count the **total number of steps** to sort the list below using **Insertion Sort**\n",
        "\n",
        "\n",
        "|6|2|5|7|4|1|8|9|3|\n",
        "|---|---|---|---|---|---|---|---|---|"
      ]
    },
    {
      "cell_type": "code",
      "execution_count": 17,
      "metadata": {
        "id": "vq1PYEjmvGDi",
        "outputId": "df20d8ae-8444-4eb6-f564-da0395689443",
        "colab": {
          "base_uri": "https://localhost:8080/"
        }
      },
      "outputs": [
        {
          "output_type": "stream",
          "name": "stdout",
          "text": [
            "Total number of steps: 24\n"
          ]
        }
      ],
      "source": [
        "# put your answer here\n",
        "def insertionSort(array):\n",
        "    steps = 0\n",
        "    for step in range(1, len(array)):\n",
        "        key = array[step]\n",
        "        j = step - 1\n",
        "\n",
        "        while j >= 0 and key < array[j]:\n",
        "            array[j + 1] = array[j]\n",
        "            j = j - 1\n",
        "            steps += 1\n",
        "\n",
        "        array[j + 1] = key\n",
        "        steps += 1\n",
        "\n",
        "    return steps\n",
        "\n",
        "my_list = [6, 2, 5, 7, 4, 1, 8, 9, 3]\n",
        "\n",
        "number_of_steps = insertionSort(my_list)\n",
        "\n",
        "print(\"Total number of steps:\", number_of_steps)"
      ]
    },
    {
      "cell_type": "markdown",
      "metadata": {
        "id": "jpfNCCdbvGDj"
      },
      "source": [
        "#### 5. Given the list below:\n",
        "\n",
        "\n",
        "|7|5|4|3|2|5|1|8|\n",
        "|---|---|---|---|---|---|---|---|\n",
        "\n",
        "Using **merge sort** and **counting sort**\n",
        "\n",
        "Determine which sorting algorithm is faster by counting the total number of steps for each algorithm\n"
      ]
    },
    {
      "cell_type": "code",
      "execution_count": 18,
      "metadata": {
        "id": "2YVK17cSvGDj",
        "outputId": "bf1ad050-33fa-46af-e92a-bb9b0c3d5047",
        "colab": {
          "base_uri": "https://localhost:8080/"
        }
      },
      "outputs": [
        {
          "output_type": "stream",
          "name": "stdout",
          "text": [
            "Counting sort is faster\n"
          ]
        }
      ],
      "source": [
        "# put your answer here\n",
        "\n",
        "merge_sort_num_steps = 7\n",
        "\n",
        "counting_sort_num_steps = 2\n",
        "\n",
        "\n",
        "if counting_sort_num_steps is None:\n",
        "    print(\"Counting Sort is not suitable for this list.\")\n",
        "else:\n",
        "    if merge_sort_num_steps < counting_sort_num_steps:\n",
        "        print(\"Merge sort is faster\")\n",
        "    else:\n",
        "        print(\"Counting sort is faster\")"
      ]
    }
  ],
  "metadata": {
    "colab": {
      "provenance": []
    },
    "kernelspec": {
      "display_name": "Python 3",
      "language": "python",
      "name": "python3"
    },
    "language_info": {
      "codemirror_mode": {
        "name": "ipython",
        "version": 3
      },
      "file_extension": ".py",
      "mimetype": "text/x-python",
      "name": "python",
      "nbconvert_exporter": "python",
      "pygments_lexer": "ipython3",
      "version": "3.11.4"
    },
    "orig_nbformat": 4
  },
  "nbformat": 4,
  "nbformat_minor": 0
}