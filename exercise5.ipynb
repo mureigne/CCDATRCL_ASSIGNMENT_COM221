{
  "cells": [
    {
      "cell_type": "markdown",
      "metadata": {
        "id": "view-in-github",
        "colab_type": "text"
      },
      "source": [
        "<a href=\"https://colab.research.google.com/github/mureigne/CCDATRCL_ASSIGNMENT_COM221/blob/main/exercise5.ipynb\" target=\"_parent\"><img src=\"https://colab.research.google.com/assets/colab-badge.svg\" alt=\"Open In Colab\"/></a>"
      ]
    },
    {
      "cell_type": "markdown",
      "metadata": {
        "id": "wKx212j8E66w"
      },
      "source": [
        "# Exercise 5"
      ]
    },
    {
      "cell_type": "markdown",
      "metadata": {
        "id": "S30LyflZE660"
      },
      "source": [
        "#### 1. Create a dictionary of your 10 favorite songs."
      ]
    },
    {
      "cell_type": "markdown",
      "metadata": {
        "id": "3mRXTFmcE661"
      },
      "source": [
        "Example:\n",
        "\n",
        "|KEY|VALUE|\n",
        "|---|---|\n",
        "|001|My Love|\n",
        "|002|Like a rose|"
      ]
    },
    {
      "cell_type": "code",
      "execution_count": 1,
      "metadata": {
        "id": "a2WbtR4ZE661",
        "colab": {
          "base_uri": "https://localhost:8080/"
        },
        "outputId": "0353b918-ea19-4cd8-eb0d-b46a791935b5"
      },
      "outputs": [
        {
          "output_type": "stream",
          "name": "stdout",
          "text": [
            "{'001': 'Super', '002': 'Don Quixote', '003': 'Clap', '004': \"Don't Wanna Cry\", '005': 'Thanks', '006': 'Back it Up', '007': 'Fire', '008': 'Pinwheel', '009': 'Highlight', '010': 'April Shower'}\n"
          ]
        }
      ],
      "source": [
        "# put your answer here\n",
        "\n",
        "mydictionary = {\n",
        "  \"001\": \"Super\",\n",
        "  \"002\": \"Don Quixote\",\n",
        "  \"003\": \"Clap\",\n",
        "  \"004\": \"Don't Wanna Cry\",\n",
        "  \"005\": \"Thanks\",\n",
        "  \"006\": \"Back it Up\",\n",
        "  \"007\": \"Fire\",\n",
        "  \"008\": \"Pinwheel\",\n",
        "  \"009\": \"Highlight\",\n",
        "  \"010\": \"April Shower\"\n",
        "}\n",
        "\n",
        "print(mydictionary)"
      ]
    },
    {
      "cell_type": "markdown",
      "metadata": {
        "id": "UDKdo9xlE662"
      },
      "source": [
        "#### 2. Loop through the dictionary by its **key** and **value**"
      ]
    },
    {
      "cell_type": "code",
      "execution_count": 2,
      "metadata": {
        "id": "qAaVaLlvE663",
        "colab": {
          "base_uri": "https://localhost:8080/"
        },
        "outputId": "91bc8932-02cf-4e1c-9be7-d937cb71a7c5"
      },
      "outputs": [
        {
          "output_type": "stream",
          "name": "stdout",
          "text": [
            "001\n",
            "002\n",
            "003\n",
            "004\n",
            "005\n",
            "006\n",
            "007\n",
            "008\n",
            "009\n",
            "010\n"
          ]
        }
      ],
      "source": [
        "# put your answer here\n",
        "\n",
        "for i in mydictionary:\n",
        "  print (i)"
      ]
    },
    {
      "cell_type": "markdown",
      "metadata": {
        "id": "YkWsCvR-E663"
      },
      "source": [
        "#### 3. Add one additional song"
      ]
    },
    {
      "cell_type": "code",
      "execution_count": 3,
      "metadata": {
        "id": "JpoH9E98E663",
        "colab": {
          "base_uri": "https://localhost:8080/"
        },
        "outputId": "2f8d75da-58e7-44fb-c410-ab77b874cd3a"
      },
      "outputs": [
        {
          "output_type": "execute_result",
          "data": {
            "text/plain": [
              "{'001': 'Super',\n",
              " '002': 'Don Quixote',\n",
              " '003': 'Clap',\n",
              " '004': \"Don't Wanna Cry\",\n",
              " '005': 'Thanks',\n",
              " '006': 'Back it Up',\n",
              " '007': 'Fire',\n",
              " '008': 'Pinwheel',\n",
              " '009': 'Highlight',\n",
              " '010': 'April Shower',\n",
              " '011': 'Hit'}"
            ]
          },
          "metadata": {},
          "execution_count": 3
        }
      ],
      "source": [
        "# put your answer here\n",
        "\n",
        "mydictionary[\"011\"] = \"Hit\"\n",
        "mydictionary"
      ]
    },
    {
      "cell_type": "markdown",
      "metadata": {
        "id": "_WAXyLGyE664"
      },
      "source": [
        "#### 4. Remove one song"
      ]
    },
    {
      "cell_type": "code",
      "execution_count": 4,
      "metadata": {
        "id": "sQBAHgXJE664",
        "colab": {
          "base_uri": "https://localhost:8080/"
        },
        "outputId": "fbd0cc29-eee8-4798-f99a-de22f1c8dcc8"
      },
      "outputs": [
        {
          "output_type": "execute_result",
          "data": {
            "text/plain": [
              "{'001': 'Super',\n",
              " '002': 'Don Quixote',\n",
              " '004': \"Don't Wanna Cry\",\n",
              " '005': 'Thanks',\n",
              " '006': 'Back it Up',\n",
              " '007': 'Fire',\n",
              " '008': 'Pinwheel',\n",
              " '009': 'Highlight',\n",
              " '010': 'April Shower',\n",
              " '011': 'Hit'}"
            ]
          },
          "metadata": {},
          "execution_count": 4
        }
      ],
      "source": [
        "# put your answer here\n",
        "\n",
        "mydictionary.pop(\"003\")\n",
        "mydictionary"
      ]
    },
    {
      "cell_type": "markdown",
      "metadata": {
        "id": "7eK-kynJE664"
      },
      "source": [
        "#### 5. Create a nested dictionary of your 10 favorite songs with 5 genres. Display all of the items of the nested dictionary\n",
        "\n",
        "- Each nested dictionary's key should be the genre of the song\n",
        "- Put each song in their respective genre"
      ]
    },
    {
      "cell_type": "markdown",
      "metadata": {
        "id": "QQMvw8mRE665"
      },
      "source": [
        "Example:\n",
        "\n",
        "\n",
        "|KEY|VALUE|\n",
        "|---|---|\n",
        "|Pop|{001, Baby}|\n",
        "|Rock|{001, Enter Sandman}|"
      ]
    },
    {
      "cell_type": "code",
      "execution_count": 7,
      "metadata": {
        "id": "KbV46Hp3E665",
        "colab": {
          "base_uri": "https://localhost:8080/"
        },
        "outputId": "046cb83d-9f16-4e72-fb9e-26cb11b61961"
      },
      "outputs": [
        {
          "output_type": "execute_result",
          "data": {
            "text/plain": [
              "{'K-Pop': {'001': 'Super',\n",
              "  '002': 'Don Quixote',\n",
              "  '003': 'Clap',\n",
              "  '004': \"Don't Wanna Cry\",\n",
              "  '005': 'Thanks',\n",
              "  '008': 'Pinwheel',\n",
              "  '009': 'Highlight',\n",
              "  '010': 'April Shower'},\n",
              " 'K-HipHop': {'006': 'Back it Up', '007': 'Fire'}}"
            ]
          },
          "metadata": {},
          "execution_count": 7
        }
      ],
      "source": [
        "# put your answer here\n",
        "\n",
        "mydictionary = {\n",
        "    \"K-Pop\" : {\n",
        "         \"001\": \"Super\",\n",
        "         \"002\": \"Don Quixote\",\n",
        "         \"003\": \"Clap\",\n",
        "         \"004\": \"Don't Wanna Cry\",\n",
        "         \"005\": \"Thanks\",\n",
        "         \"008\": \"Pinwheel\",\n",
        "         \"009\": \"Highlight\",\n",
        "         \"010\": \"April Shower\"\n",
        "    },\n",
        "    \"K-HipHop\" : {\n",
        "        \"006\": \"Back it Up\",\n",
        "        \"007\": \"Fire\"\n",
        "    }\n",
        "}\n",
        "\n",
        "mydictionary"
      ]
    },
    {
      "cell_type": "markdown",
      "metadata": {
        "id": "WZ-BeqpKE665"
      },
      "source": [
        "#### 6. Print the first song of the first genre"
      ]
    },
    {
      "cell_type": "code",
      "execution_count": 8,
      "metadata": {
        "id": "zytg1rq4E665",
        "colab": {
          "base_uri": "https://localhost:8080/"
        },
        "outputId": "9b5b76ca-bd3b-49ca-e23a-8c7ecb21dd11"
      },
      "outputs": [
        {
          "output_type": "stream",
          "name": "stdout",
          "text": [
            "Super\n"
          ]
        }
      ],
      "source": [
        "# put your answer here\n",
        "print(mydictionary[\"K-Pop\"] [\"001\"])"
      ]
    },
    {
      "cell_type": "markdown",
      "metadata": {
        "id": "mC-QpvcLE665"
      },
      "source": [
        "#### 7. Print the first song of the last genre"
      ]
    },
    {
      "cell_type": "code",
      "execution_count": 10,
      "metadata": {
        "id": "ZmSxyakLE665",
        "colab": {
          "base_uri": "https://localhost:8080/"
        },
        "outputId": "96610e20-a550-417b-8196-4e82c06fd264"
      },
      "outputs": [
        {
          "output_type": "stream",
          "name": "stdout",
          "text": [
            "Back it Up\n"
          ]
        }
      ],
      "source": [
        "# put your answer here\n",
        "print(mydictionary[\"K-HipHop\"][\"006\"])"
      ]
    }
  ],
  "metadata": {
    "kernelspec": {
      "display_name": "Python 3",
      "language": "python",
      "name": "python3"
    },
    "language_info": {
      "codemirror_mode": {
        "name": "ipython",
        "version": 3
      },
      "file_extension": ".py",
      "mimetype": "text/x-python",
      "name": "python",
      "nbconvert_exporter": "python",
      "pygments_lexer": "ipython3",
      "version": "3.11.4"
    },
    "orig_nbformat": 4,
    "colab": {
      "provenance": [],
      "include_colab_link": true
    }
  },
  "nbformat": 4,
  "nbformat_minor": 0
}